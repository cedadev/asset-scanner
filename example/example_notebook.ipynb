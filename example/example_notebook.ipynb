{
 "cells": [
  {
   "cell_type": "markdown",
   "metadata": {},
   "source": [
    "# STAC Generator Example Notebook"
   ]
  },
  {
   "cell_type": "markdown",
   "metadata": {},
   "source": [
    "## Item Generatation\n",
    "\n",
    "The stac_generator can be used to generate facets or extract facets from its assets. Which are then used to construct a STAC Item."
   ]
  },
  {
   "cell_type": "code",
   "execution_count": 21,
   "metadata": {},
   "outputs": [
    {
     "name": "stdout",
     "output_type": "stream",
     "text": [
      "{   'assets': {   'data0001': {   'href': 'https://cmip6-zarr-o.s3-ext.jc.rl.ac.uk/CMIP6.CMIP.MOHC.UKESM1-0-LL/historical.r12i1p1f2.Amon.tas.gn.v20191210.zarr',\n",
      "                                  'roles': ['data']}},\n",
      "    'collection': 'cmip6',\n",
      "    'geometry': None,\n",
      "    'id': 'CMIP6.CMIP.MOHC.UKESM1-0-LL.Amon.tas.v20191210',\n",
      "    'member_of_recipes': {'cmip6': 'cce91d867703049b5f46f227d8d71bad'},\n",
      "    'properties': {   'activity_id': 'CMIP',\n",
      "                      'datetime': None,\n",
      "                      'experiment_id': 'historical',\n",
      "                      'grid_label': 'gn',\n",
      "                      'instance_id': 'CMIP6.CMIP.MOHC.UKESM1-0-LL.Amon.tas.v20191210',\n",
      "                      'institution_id': 'MOHC',\n",
      "                      'member_id': 'r12i1p1f2',\n",
      "                      'mip_era': 'CMIP6',\n",
      "                      'source_id': 'UKESM1-0-LL',\n",
      "                      'table_id': 'Amon',\n",
      "                      'var_id': 'tas',\n",
      "                      'version': 'v20191210'},\n",
      "    'stac_extensions': [],\n",
      "    'stac_version': '1.0.0',\n",
      "    'type': 'Feature'}\n",
      "{   'assets': {   'data0001': {   'href': 'https://cmip6-zarr-o.s3-ext.jc.rl.ac.uk/CMIP6.CMIP.MOHC.UKESM1-0-LL/historical.r12i1p1f2.Amon.tas.gn.v20191210.zarr',\n",
      "                                  'roles': ['data']}},\n",
      "    'collection': 'cmip6',\n",
      "    'geometry': None,\n",
      "    'id': 'CMIP6.CMIP.MOHC.UKESM1-0-LL.Amon.tas.v20190502',\n",
      "    'member_of_recipes': {'cmip6': 'cce91d867703049b5f46f227d8d71bad'},\n",
      "    'properties': {   'activity_id': 'CMIP',\n",
      "                      'datetime': None,\n",
      "                      'experiment_id': 'historical',\n",
      "                      'grid_label': 'gn',\n",
      "                      'instance_id': 'CMIP6.CMIP.MOHC.UKESM1-0-LL.Amon.tas.v20190502',\n",
      "                      'institution_id': 'MOHC',\n",
      "                      'member_id': 'r4i1p1f2',\n",
      "                      'mip_era': 'CMIP6',\n",
      "                      'source_id': 'UKESM1-0-LL',\n",
      "                      'table_id': 'Amon',\n",
      "                      'var_id': 'tas',\n",
      "                      'version': 'v20190502'},\n",
      "    'stac_extensions': [],\n",
      "    'stac_version': '1.0.0',\n",
      "    'type': 'Feature'}\n",
      "Processed 2 elasticsearch records in 0:00:22.534546\n"
     ]
    }
   ],
   "source": [
    "!stac_generator -c conf/item-generator.yaml\n"
   ]
  },
  {
   "cell_type": "markdown",
   "metadata": {},
   "source": [
    "# Collection Generatation\n",
    "\n",
    "The collection generator can be used to aggregate facets from items or extract new facets. Which are then used to construct a STAC Collection."
   ]
  },
  {
   "cell_type": "code",
   "execution_count": 22,
   "metadata": {},
   "outputs": [
    {
     "name": "stdout",
     "output_type": "stream",
     "text": [
      "{   'assets': {},\n",
      "    'extent': {'spatial': {'bbox': None}, 'temporal': {'interval': None}},\n",
      "    'id': 'cmip6',\n",
      "    'license': '',\n",
      "    'member_of_recipes': {},\n",
      "    'providers': [],\n",
      "    'stac_extensions': [],\n",
      "    'stac_version': '1.0.0',\n",
      "    'summaries': {   'activity_id': ['CMIP'],\n",
      "                     'institution_id': ['MOHC'],\n",
      "                     'mip_era': ['CMIP6'],\n",
      "                     'source_id': ['UKESM1-0-LL'],\n",
      "                     'table_id': ['Amon'],\n",
      "                     'var_id': ['tas'],\n",
      "                     'version': ['v20191210', 'v20190502']},\n",
      "    'type': 'Collection'}\n",
      "Processed 1 elasticsearch records in 0:00:00.078646\n"
     ]
    }
   ],
   "source": [
    "!stac_generator -c conf/collection-generator.yaml"
   ]
  }
 ],
 "metadata": {
  "kernelspec": {
   "display_name": "Python 3.9.0 64-bit ('3.9.0')",
   "language": "python",
   "name": "python3"
  },
  "language_info": {
   "codemirror_mode": {
    "name": "ipython",
    "version": 3
   },
   "file_extension": ".py",
   "mimetype": "text/x-python",
   "name": "python",
   "nbconvert_exporter": "python",
   "pygments_lexer": "ipython3",
   "version": "3.9.18"
  },
  "vscode": {
   "interpreter": {
    "hash": "d1c73c238d4df8240ea6ced780499b0728d2f28f2f3fb45826ee3ad3fb6e7c26"
   }
  }
 },
 "nbformat": 4,
 "nbformat_minor": 5
}
